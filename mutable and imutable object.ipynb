{
 "cells": [
  {
   "cell_type": "code",
   "execution_count": 2,
   "id": "99f3a5cf-70c5-409c-b97b-60c29b75d249",
   "metadata": {},
   "outputs": [],
   "source": [
    "f = \"fiza\""
   ]
  },
  {
   "cell_type": "code",
   "execution_count": 3,
   "id": "bb18db3a-5225-4fc1-b579-2ac3dff38efb",
   "metadata": {},
   "outputs": [],
   "source": [
    "f1 = 'fizaparween'"
   ]
  },
  {
   "cell_type": "code",
   "execution_count": 5,
   "id": "77a928f5-0c3e-4074-a89b-8d6d9685e32c",
   "metadata": {},
   "outputs": [
    {
     "data": {
      "text/plain": [
       "str"
      ]
     },
     "execution_count": 5,
     "metadata": {},
     "output_type": "execute_result"
    }
   ],
   "source": [
    "type(f)"
   ]
  },
  {
   "cell_type": "code",
   "execution_count": 7,
   "id": "48f68706-a22f-4c0a-943d-240f64dd4f3f",
   "metadata": {},
   "outputs": [
    {
     "data": {
      "text/plain": [
       "str"
      ]
     },
     "execution_count": 7,
     "metadata": {},
     "output_type": "execute_result"
    }
   ],
   "source": [
    "type(f1)"
   ]
  },
  {
   "cell_type": "code",
   "execution_count": 9,
   "id": "a0ac13f8-81e9-4681-899c-f2c211b97f46",
   "metadata": {},
   "outputs": [],
   "source": [
    "l = [2,3,4,5,6,\"fiza\", 3+5j , True , 23.25]"
   ]
  },
  {
   "cell_type": "code",
   "execution_count": 11,
   "id": "ce2b6514-1546-43df-af6e-2de5ce783380",
   "metadata": {},
   "outputs": [
    {
     "data": {
      "text/plain": [
       "list"
      ]
     },
     "execution_count": 11,
     "metadata": {},
     "output_type": "execute_result"
    }
   ],
   "source": [
    "type(l)"
   ]
  },
  {
   "cell_type": "code",
   "execution_count": 13,
   "id": "e8bcff7d-7244-4878-987b-f7d75d2fcb40",
   "metadata": {},
   "outputs": [
    {
     "data": {
      "text/plain": [
       "'fiza'"
      ]
     },
     "execution_count": 13,
     "metadata": {},
     "output_type": "execute_result"
    }
   ],
   "source": [
    "f"
   ]
  },
  {
   "cell_type": "code",
   "execution_count": 16,
   "id": "be85f5ed-25be-4547-8492-8b465d54a8b5",
   "metadata": {},
   "outputs": [
    {
     "data": {
      "text/plain": [
       "'f'"
      ]
     },
     "execution_count": 16,
     "metadata": {},
     "output_type": "execute_result"
    }
   ],
   "source": [
    "f[0]"
   ]
  },
  {
   "cell_type": "code",
   "execution_count": 18,
   "id": "0021bf29-5570-4f0a-8bbe-6751d4c1b537",
   "metadata": {},
   "outputs": [
    {
     "data": {
      "text/plain": [
       "'a'"
      ]
     },
     "execution_count": 18,
     "metadata": {},
     "output_type": "execute_result"
    }
   ],
   "source": [
    "f[3]"
   ]
  },
  {
   "cell_type": "code",
   "execution_count": 20,
   "id": "af33c732-681f-44d2-8758-3ba49176f2c7",
   "metadata": {},
   "outputs": [
    {
     "data": {
      "text/plain": [
       "[2, 3, 4, 5, 6, 'fiza', (3+5j), True, 23.25]"
      ]
     },
     "execution_count": 20,
     "metadata": {},
     "output_type": "execute_result"
    }
   ],
   "source": [
    "l"
   ]
  },
  {
   "cell_type": "code",
   "execution_count": 22,
   "id": "10237716-14a1-49fe-89f4-82e0b65405fa",
   "metadata": {},
   "outputs": [
    {
     "data": {
      "text/plain": [
       "4"
      ]
     },
     "execution_count": 22,
     "metadata": {},
     "output_type": "execute_result"
    }
   ],
   "source": [
    "l[2]"
   ]
  },
  {
   "cell_type": "code",
   "execution_count": 24,
   "id": "f1b54e22-0678-4e8a-b943-f7eab782f199",
   "metadata": {},
   "outputs": [
    {
     "data": {
      "text/plain": [
       "23.25"
      ]
     },
     "execution_count": 24,
     "metadata": {},
     "output_type": "execute_result"
    }
   ],
   "source": [
    "l[8]"
   ]
  },
  {
   "cell_type": "code",
   "execution_count": 26,
   "id": "5e29f0ba-38e8-4185-bb7d-f5a229f3cba5",
   "metadata": {},
   "outputs": [
    {
     "data": {
      "text/plain": [
       "'fiza'"
      ]
     },
     "execution_count": 26,
     "metadata": {},
     "output_type": "execute_result"
    }
   ],
   "source": [
    "l[5]"
   ]
  },
  {
   "cell_type": "code",
   "execution_count": 28,
   "id": "77abe08f-8466-45e9-a5bb-197252b960f1",
   "metadata": {},
   "outputs": [
    {
     "data": {
      "text/plain": [
       "True"
      ]
     },
     "execution_count": 28,
     "metadata": {},
     "output_type": "execute_result"
    }
   ],
   "source": [
    "l[-2]"
   ]
  },
  {
   "cell_type": "code",
   "execution_count": 30,
   "id": "b2947af4-beca-4cdd-bc49-29d9f4216575",
   "metadata": {},
   "outputs": [
    {
     "data": {
      "text/plain": [
       "'fiza'"
      ]
     },
     "execution_count": 30,
     "metadata": {},
     "output_type": "execute_result"
    }
   ],
   "source": [
    "l[-4]"
   ]
  },
  {
   "cell_type": "code",
   "execution_count": 32,
   "id": "eea1416b-14bd-4c4a-af26-876f7f8e4cfa",
   "metadata": {},
   "outputs": [],
   "source": [
    "l[1] = 300"
   ]
  },
  {
   "cell_type": "code",
   "execution_count": 36,
   "id": "5cfb4488-902e-45bb-a47e-0f30a15f2e3b",
   "metadata": {},
   "outputs": [
    {
     "data": {
      "text/plain": [
       "[2, 300, 4, 5, 6, 'fiza', (3+5j), True, 23.25]"
      ]
     },
     "execution_count": 36,
     "metadata": {},
     "output_type": "execute_result"
    }
   ],
   "source": [
    "l"
   ]
  },
  {
   "cell_type": "code",
   "execution_count": 38,
   "id": "1f57d722-8964-494e-97b5-ba64b5d5e1fb",
   "metadata": {},
   "outputs": [],
   "source": [
    "l[2] = 200"
   ]
  },
  {
   "cell_type": "code",
   "execution_count": 42,
   "id": "321592dd-b4ec-4068-a0d0-973881f49b36",
   "metadata": {},
   "outputs": [
    {
     "data": {
      "text/plain": [
       "[2, 300, 200, 5, 6, 'fiza', (3+5j), True, 23.25]"
      ]
     },
     "execution_count": 42,
     "metadata": {},
     "output_type": "execute_result"
    }
   ],
   "source": [
    "l"
   ]
  },
  {
   "cell_type": "code",
   "execution_count": 44,
   "id": "0e18fa3a-d7a3-48d9-bfdd-4798767ede3c",
   "metadata": {},
   "outputs": [],
   "source": [
    "l[4] = \"farha\""
   ]
  },
  {
   "cell_type": "code",
   "execution_count": 46,
   "id": "c1cd5593-729d-4a9f-9886-a6c215cae2cb",
   "metadata": {},
   "outputs": [
    {
     "data": {
      "text/plain": [
       "[2, 300, 200, 5, 'farha', 'fiza', (3+5j), True, 23.25]"
      ]
     },
     "execution_count": 46,
     "metadata": {},
     "output_type": "execute_result"
    }
   ],
   "source": [
    "l"
   ]
  },
  {
   "cell_type": "code",
   "execution_count": 47,
   "id": "191fc427-c90f-4ba8-8427-826cad94aab0",
   "metadata": {},
   "outputs": [],
   "source": [
    "l[5] = 456"
   ]
  },
  {
   "cell_type": "code",
   "execution_count": 49,
   "id": "12f75962-0e38-444f-8bb0-7cea36298408",
   "metadata": {},
   "outputs": [
    {
     "data": {
      "text/plain": [
       "[2, 300, 200, 5, 'farha', 456, (3+5j), True, 23.25]"
      ]
     },
     "execution_count": 49,
     "metadata": {},
     "output_type": "execute_result"
    }
   ],
   "source": [
    "l"
   ]
  },
  {
   "cell_type": "code",
   "execution_count": 51,
   "id": "d15df5b7-c3dd-4a9f-b0ec-64a905538530",
   "metadata": {},
   "outputs": [],
   "source": [
    "l[6] = \"fizuu\""
   ]
  },
  {
   "cell_type": "code",
   "execution_count": 53,
   "id": "2a1ff811-fa20-4401-b193-723e32b60ba5",
   "metadata": {},
   "outputs": [
    {
     "data": {
      "text/plain": [
       "[2, 300, 200, 5, 'farha', 456, 'fizuu', True, 23.25]"
      ]
     },
     "execution_count": 53,
     "metadata": {},
     "output_type": "execute_result"
    }
   ],
   "source": [
    "l"
   ]
  },
  {
   "cell_type": "code",
   "execution_count": 55,
   "id": "114aaafd-a8e4-48d3-bb46-af4d1f524d73",
   "metadata": {},
   "outputs": [
    {
     "data": {
      "text/plain": [
       "'fiza'"
      ]
     },
     "execution_count": 55,
     "metadata": {},
     "output_type": "execute_result"
    }
   ],
   "source": [
    "f "
   ]
  }
 ],
 "metadata": {
  "kernelspec": {
   "display_name": "Python 3 (ipykernel)",
   "language": "python",
   "name": "python3"
  },
  "language_info": {
   "codemirror_mode": {
    "name": "ipython",
    "version": 3
   },
   "file_extension": ".py",
   "mimetype": "text/x-python",
   "name": "python",
   "nbconvert_exporter": "python",
   "pygments_lexer": "ipython3",
   "version": "3.10.8"
  }
 },
 "nbformat": 4,
 "nbformat_minor": 5
}
